{
  "cells": [
    {
      "cell_type": "markdown",
      "metadata": {
        "id": "view-in-github",
        "colab_type": "text"
      },
      "source": [
        "<a href=\"https://colab.research.google.com/github/nit29sin/Pneumonia-Detection/blob/main/Pneumonia_Detection_using_ML.ipynb\" target=\"_parent\"><img src=\"https://colab.research.google.com/assets/colab-badge.svg\" alt=\"Open In Colab\"/></a>"
      ]
    },
    {
      "cell_type": "code",
      "execution_count": null,
      "metadata": {
        "id": "6n5kIZWA7RJr"
      },
      "outputs": [],
      "source": [
        "#Libraries\n",
        "import tensorflow as tf\n",
        "import tensorflow_hub as hub\n",
        "import numpy as np\n",
        "import matplotlib.pyplot as plt\n",
        "from tensorflow import keras\n",
        "from tensorflow.keras import layers\n",
        "from tensorflow.keras.preprocessing.image import ImageDataGenerator\n",
        "from tensorflow.keras.layers import Dense, Flatten, Dropout,BatchNormalization ,Activation\n",
        "from tensorflow.keras.models import Model, Sequential\n",
        "from keras.layers import Conv2D, MaxPool2D\n",
        "from keras.preprocessing import image\n",
        "from keras.callbacks import ModelCheckpoint, ReduceLROnPlateau\n",
        "from sklearn.metrics import confusion_matrix\n",
        "import glob\n",
        "from sklearn.model_selection import train_test_split\n",
        "import os"
      ]
    },
    {
      "cell_type": "code",
      "execution_count": null,
      "metadata": {
        "id": "cJMRwEdbQrlX"
      },
      "outputs": [],
      "source": [
        "AUTOTUNE = tf.data.experimental.AUTOTUNE\n",
        "IMAGE_SIZE = [180, 180]\n",
        "BATCH_SIZE = 16"
      ]
    },
    {
      "cell_type": "code",
      "execution_count": null,
      "metadata": {
        "id": "9FCAfjUJL3lL"
      },
      "outputs": [],
      "source": [
        "filenames = glob.glob(str('/content/drive/MyDrive/chest_xray5/train/*/*'))\n",
        "filenames.extend(glob.glob (str('/content/drive/MyDrive/chest_xray5/val/*/*')))\n",
        "\n",
        "train_filenames, val_filenames = train_test_split(filenames, test_size=0.2)"
      ]
    },
    {
      "cell_type": "code",
      "execution_count": null,
      "metadata": {
        "colab": {
          "base_uri": "https://localhost:8080/"
        },
        "id": "TlIK76T7PErS",
        "outputId": "8823799d-ca0b-4098-fced-4c21f48b2331"
      },
      "outputs": [
        {
          "name": "stdout",
          "output_type": "stream",
          "text": [
            "Normal images count in training set: 1057\n",
            "Pneumonia images count in training set: 3128\n"
          ]
        }
      ],
      "source": [
        "COUNT_NORMAL = len([filename for filename in train_filenames if \"NORMAL\" in filename])\n",
        "print(\"Normal images count in training set: \" + str(COUNT_NORMAL))\n",
        "\n",
        "COUNT_PNEUMONIA = len([filename for filename in train_filenames if \"PNEUMONIA\" in filename])\n",
        "print(\"Pneumonia images count in training set: \" + str(COUNT_PNEUMONIA))"
      ]
    },
    {
      "cell_type": "code",
      "execution_count": null,
      "metadata": {
        "colab": {
          "base_uri": "https://localhost:8080/"
        },
        "id": "QpOwuXrrPIXt",
        "outputId": "f2d9c920-5e85-4f44-ca9f-37b12984822f"
      },
      "outputs": [
        {
          "name": "stdout",
          "output_type": "stream",
          "text": [
            "b'/content/drive/MyDrive/chest_xray5/train/PNEUMONIA/person871_virus_1517.jpeg'\n",
            "b'/content/drive/MyDrive/chest_xray5/train/PNEUMONIA/person30_bacteria_149.jpeg'\n",
            "b'/content/drive/MyDrive/chest_xray5/train/PNEUMONIA/person688_virus_1282.jpeg'\n",
            "b'/content/drive/MyDrive/chest_xray5/train/PNEUMONIA/person1455_bacteria_3784.jpeg'\n",
            "b'/content/drive/MyDrive/chest_xray5/train/PNEUMONIA/person811_virus_1447.jpeg'\n"
          ]
        },
        {
          "name": "stderr",
          "output_type": "stream",
          "text": [
            "2022-04-22 15:09:36.239368: E tensorflow/stream_executor/cuda/cuda_driver.cc:271] failed call to cuInit: CUDA_ERROR_NO_DEVICE: no CUDA-capable device is detected\n",
            "2022-04-22 15:09:36.355012: W tensorflow/core/data/root_dataset.cc:200] Optimization loop failed: CANCELLED: Operation was cancelled\n"
          ]
        }
      ],
      "source": [
        "train_list_ds = tf.data.Dataset.from_tensor_slices(train_filenames)\n",
        "val_list_ds = tf.data.Dataset.from_tensor_slices(val_filenames)\n",
        "\n",
        "for f in train_list_ds.take(5):\n",
        "    print(f.numpy())"
      ]
    },
    {
      "cell_type": "code",
      "execution_count": null,
      "metadata": {
        "colab": {
          "base_uri": "https://localhost:8080/"
        },
        "id": "8EZGr_IdPLeY",
        "outputId": "fba8230d-4e50-4f8f-a6be-eb9f5c9ec4cd"
      },
      "outputs": [
        {
          "name": "stdout",
          "output_type": "stream",
          "text": [
            "Training images count: 4185\n",
            "Validating images count: 1047\n"
          ]
        }
      ],
      "source": [
        "TRAIN_IMG_COUNT = tf.data.experimental.cardinality(train_list_ds).numpy()\n",
        "print(\"Training images count: \" + str(TRAIN_IMG_COUNT))\n",
        "\n",
        "VAL_IMG_COUNT = tf.data.experimental.cardinality(val_list_ds).numpy()\n",
        "print(\"Validating images count: \" + str(VAL_IMG_COUNT))"
      ]
    },
    {
      "cell_type": "code",
      "execution_count": null,
      "metadata": {
        "colab": {
          "base_uri": "https://localhost:8080/"
        },
        "id": "TJb4bmqjPNSi",
        "outputId": "ee991248-2ef2-44ef-e573-f877fdefb2bc"
      },
      "outputs": [
        {
          "data": {
            "text/plain": [
              "array(['PNEUMONIA', 'NORMAL'], dtype='<U9')"
            ]
          },
          "execution_count": 8,
          "metadata": {},
          "output_type": "execute_result"
        }
      ],
      "source": [
        "CLASS_NAMES = np.array([str(tf.strings.split(item, os.path.sep)[-1].numpy())[2:-1]\n",
        "                        for item in glob.glob(str(\"/content/drive/MyDrive/chest_xray/train/*\"))])\n",
        "\n",
        "CLASS_NAMES"
      ]
    },
    {
      "cell_type": "code",
      "execution_count": null,
      "metadata": {
        "id": "76qrw-3FP5Sz"
      },
      "outputs": [],
      "source": [
        "def get_label(file_path):\n",
        "    # convert the path to a list of path components\n",
        "    parts = tf.strings.split(file_path, os.path.sep)\n",
        "    # The second to last is the class-directory\n",
        "    return parts[-2] == \"PNEUMONIA\""
      ]
    },
    {
      "cell_type": "code",
      "execution_count": null,
      "metadata": {
        "id": "0ZFdVCOHP8vm"
      },
      "outputs": [],
      "source": [
        "def decode_img(img):\n",
        "  # convert the compressed string to a 3D uint8 tensor\n",
        "  img = tf.image.decode_jpeg(img, channels=3)\n",
        "  # Use `convert_image_dtype` to convert to floats in the [0,1] range.\n",
        "  img = tf.image.convert_image_dtype(img, tf.float32)\n",
        "  # resize the image to the desired size.\n",
        "  return tf.image.resize(img, IMAGE_SIZE)"
      ]
    },
    {
      "cell_type": "code",
      "execution_count": null,
      "metadata": {
        "id": "4USy-2RXP9q0"
      },
      "outputs": [],
      "source": [
        "def process_path(file_path):\n",
        "    label = get_label(file_path)\n",
        "    # load the raw data from the file as a string\n",
        "    img = tf.io.read_file(file_path)\n",
        "    img = decode_img(img)\n",
        "    return img, label"
      ]
    },
    {
      "cell_type": "code",
      "execution_count": null,
      "metadata": {
        "id": "PAo-2CH3QAzg"
      },
      "outputs": [],
      "source": [
        "train_ds = train_list_ds.map(process_path, num_parallel_calls=AUTOTUNE)\n",
        "\n",
        "val_ds = val_list_ds.map(process_path, num_parallel_calls=AUTOTUNE)"
      ]
    },
    {
      "cell_type": "code",
      "execution_count": null,
      "metadata": {
        "colab": {
          "base_uri": "https://localhost:8080/"
        },
        "id": "IEbv-Mx1QOZ1",
        "outputId": "89c10146-706b-46af-c451-8a8f2d3d6a5f"
      },
      "outputs": [
        {
          "name": "stdout",
          "output_type": "stream",
          "text": [
            "Image shape:  (180, 180, 3)\n",
            "Label:  True\n"
          ]
        }
      ],
      "source": [
        "for image, label in train_ds.take(1):\n",
        "    print(\"Image shape: \", image.numpy().shape)\n",
        "    print(\"Label: \", label.numpy())"
      ]
    },
    {
      "cell_type": "code",
      "execution_count": null,
      "metadata": {
        "colab": {
          "base_uri": "https://localhost:8080/"
        },
        "id": "evRBlTbp_mZ4",
        "outputId": "d1abb882-3341-4453-d34f-f078926472dc"
      },
      "outputs": [
        {
          "name": "stdout",
          "output_type": "stream",
          "text": [
            "Found 624 images belonging to 2 classes.\n"
          ]
        }
      ],
      "source": [
        "test_datagen  = ImageDataGenerator(rescale = 1./255\n",
        "                                  )\n",
        "\n",
        "test_dataset = test_datagen.flow_from_directory(directory = '/content/drive/MyDrive/chest_xray5/test',\n",
        "                                                  target_size = (180,180),\n",
        "                                                  batch_size = 16,\n",
        "                                                  class_mode = 'binary'\n",
        "                                                  )"
      ]
    },
    {
      "cell_type": "code",
      "execution_count": null,
      "metadata": {
        "id": "xhF7GQnZRvhY"
      },
      "outputs": [],
      "source": [
        "def prepare_for_training(ds, cache=True, shuffle_buffer_size=1000):\n",
        "    # This is a small dataset, only load it once, and keep it in memory.\n",
        "    # use `.cache(filename)` to cache preprocessing work for datasets that don't\n",
        "    # fit in memory.\n",
        "    if cache:\n",
        "        if isinstance(cache, str):\n",
        "            ds = ds.cache(cache)\n",
        "        else:\n",
        "            ds = ds.cache()\n",
        "\n",
        "    ds = ds.shuffle(buffer_size=shuffle_buffer_size)\n",
        "\n",
        "    # Repeat forever\n",
        "    ds = ds.repeat()\n",
        "\n",
        "    ds = ds.batch(BATCH_SIZE)\n",
        "\n",
        "    # `prefetch` lets the dataset fetch batches in the background while the model\n",
        "    # is training.\n",
        "    ds = ds.prefetch(buffer_size=AUTOTUNE)\n",
        "\n",
        "    return ds\n"
      ]
    },
    {
      "cell_type": "code",
      "execution_count": null,
      "metadata": {
        "id": "ARxY6DniRwfN"
      },
      "outputs": [],
      "source": [
        "train_ds = prepare_for_training(train_ds)\n",
        "val_ds = prepare_for_training(val_ds)\n",
        "\n",
        "image_batch, label_batch = next(iter(train_ds))"
      ]
    },
    {
      "cell_type": "code",
      "execution_count": null,
      "metadata": {
        "id": "UqoyY48sR0b_"
      },
      "outputs": [],
      "source": [
        "def show_batch(image_batch, label_batch):\n",
        "    plt.figure(figsize=(10,10))\n",
        "    for n in range(16):\n",
        "        ax = plt.subplot(5,5,n+1)\n",
        "        plt.imshow(image_batch[n])\n",
        "        if label_batch[n]:\n",
        "            plt.title(\"PNEUMONIA\")\n",
        "        else:\n",
        "            plt.title(\"NORMAL\")\n",
        "        plt.axis(\"off\")"
      ]
    },
    {
      "cell_type": "code",
      "execution_count": null,
      "metadata": {
        "id": "n6t37fCrR3Fq"
      },
      "outputs": [],
      "source": [
        "show_batch(image_batch.numpy(), label_batch.numpy())"
      ]
    },
    {
      "cell_type": "code",
      "execution_count": null,
      "metadata": {
        "id": "fl7VQh7vuIKx"
      },
      "outputs": [],
      "source": [
        "def conv_block(filters):\n",
        "    block = tf.keras.Sequential([\n",
        "        tf.keras.layers.SeparableConv2D(filters, 3, activation='relu', padding='same'),\n",
        "        tf.keras.layers.SeparableConv2D(filters, 3, activation='relu', padding='same'),\n",
        "        tf.keras.layers.BatchNormalization(),\n",
        "        tf.keras.layers.MaxPool2D()\n",
        "    ]\n",
        "    )\n",
        "    \n",
        "    return block"
      ]
    },
    {
      "cell_type": "code",
      "execution_count": null,
      "metadata": {
        "id": "B4g5_Kt8ufzY"
      },
      "outputs": [],
      "source": [
        "def dense_block(units, dropout_rate):\n",
        "    block = tf.keras.Sequential([\n",
        "        tf.keras.layers.Dense(units, activation='relu'),\n",
        "        tf.keras.layers.BatchNormalization(),\n",
        "        tf.keras.layers.Dropout(dropout_rate)\n",
        "    ])\n",
        "    \n",
        "    return block"
      ]
    },
    {
      "cell_type": "code",
      "execution_count": null,
      "metadata": {
        "id": "sUaFSM71ulBb"
      },
      "outputs": [],
      "source": [
        "def build_model():\n",
        "    model = tf.keras.Sequential([\n",
        "        tf.keras.Input(shape=(IMAGE_SIZE[0], IMAGE_SIZE[1], 3)),\n",
        "        \n",
        "        tf.keras.layers.Conv2D(16, 3, activation='relu', padding='same'),\n",
        "        tf.keras.layers.Conv2D(16, 3, activation='relu', padding='same'),\n",
        "        tf.keras.layers.MaxPool2D(),\n",
        "        \n",
        "        conv_block(32),\n",
        "        conv_block(64),\n",
        "        \n",
        "        conv_block(128),\n",
        "        tf.keras.layers.Dropout(0.2),\n",
        "        \n",
        "        conv_block(256),\n",
        "        tf.keras.layers.Dropout(0.2),\n",
        "        \n",
        "        tf.keras.layers.Flatten(),\n",
        "        dense_block(512, 0.7),\n",
        "        dense_block(128, 0.5),\n",
        "        dense_block(64, 0.3),\n",
        "        \n",
        "        tf.keras.layers.Dense(1, activation='sigmoid')\n",
        "    ])\n",
        "    \n",
        "    return model"
      ]
    },
    {
      "cell_type": "code",
      "execution_count": null,
      "metadata": {
        "id": "u0CDOQt4uthr"
      },
      "outputs": [],
      "source": [
        "initial_bias = np.log([COUNT_PNEUMONIA/COUNT_NORMAL])\n",
        "initial_bias"
      ]
    },
    {
      "cell_type": "code",
      "execution_count": null,
      "metadata": {
        "id": "BNXo-7dguvjm"
      },
      "outputs": [],
      "source": [
        "weight_for_0 = (1 / COUNT_NORMAL)*(TRAIN_IMG_COUNT)/2.0 \n",
        "weight_for_1 = (1 / COUNT_PNEUMONIA)*(TRAIN_IMG_COUNT)/2.0\n",
        "\n",
        "class_weight = {0: weight_for_0, 1: weight_for_1}\n",
        "\n",
        "print('Weight for class 0: {:.2f}'.format(weight_for_0))\n",
        "print('Weight for class 1: {:.2f}'.format(weight_for_1))"
      ]
    },
    {
      "cell_type": "code",
      "execution_count": null,
      "metadata": {
        "id": "U1YWPQOHuyrc"
      },
      "outputs": [],
      "source": [
        "model = build_model()\n",
        "model.summary()\n",
        "METRICS = [\n",
        "    'accuracy',\n",
        "    tf.keras.metrics.Precision(name='precision'),\n",
        "    tf.keras.metrics.Recall(name='recall')\n",
        "]\n",
        "    \n",
        "model.compile(\n",
        "    optimizer='adam',\n",
        "    loss='binary_crossentropy',\n",
        "    metrics=METRICS\n",
        ")"
      ]
    },
    {
      "cell_type": "code",
      "execution_count": null,
      "metadata": {
        "id": "La89uSpdvLGo"
      },
      "outputs": [],
      "source": [
        "history = model.fit(\n",
        "    train_ds,\n",
        "    steps_per_epoch=TRAIN_IMG_COUNT // BATCH_SIZE,\n",
        "    epochs=5,\n",
        "    validation_data=val_ds,\n",
        "    validation_steps=VAL_IMG_COUNT // BATCH_SIZE,\n",
        "    class_weight=class_weight,\n",
        ")"
      ]
    },
    {
      "cell_type": "code",
      "execution_count": null,
      "metadata": {
        "id": "vQYI1G62XU-H"
      },
      "outputs": [],
      "source": [
        "model.save(\"/content/drive/MyDrive/chest_xray/models/modele5.h5\")"
      ]
    },
    {
      "cell_type": "code",
      "execution_count": null,
      "metadata": {
        "colab": {
          "base_uri": "https://localhost:8080/",
          "height": 295
        },
        "id": "tZUyY_R4Xny5",
        "outputId": "cbcf4d65-1962-4554-ee5a-2d3803bf0d54"
      },
      "outputs": [
        {
          "data": {
            "image/png": "[encoded data removed]",
            "text/plain": [
              "<Figure size 432x288 with 1 Axes>"
            ]
          },
          "metadata": {},
          "output_type": "display_data"
        }
      ],
      "source": [
        "accuracy_train = history.history['accuracy']\n",
        "accuracy_val=  history.history['val_accuracy']\n",
        "plt.plot( accuracy_train, 'g', label='Training accuracy')\n",
        "plt.plot( accuracy_val, 'r', label='Validation accuracy')\n",
        "plt.title('Accuracy v/s Epochs')\n",
        "plt.xlabel('Epochs')\n",
        "plt.ylabel('Accuracy')\n",
        "plt.legend()\n",
        "plt.show()"
      ]
    },
    {
      "cell_type": "code",
      "execution_count": null,
      "metadata": {
        "colab": {
          "base_uri": "https://localhost:8080/",
          "height": 295
        },
        "id": "2pdP3PkqYNHh",
        "outputId": "3f13d968-ba13-469d-fec5-701527bce15f"
      },
      "outputs": [
        {
          "data": {
            "image/png": "[encoded data removed]",
            "text/plain": [
              "<Figure size 432x288 with 1 Axes>"
            ]
          },
          "metadata": {},
          "output_type": "display_data"
        }
      ],
      "source": [
        "loss_train = history.history['loss']\n",
        "loss_val = history.history['val_loss']\n",
        "plt.plot( loss_train, 'g', label = 'Training loss' )\n",
        "plt.plot( loss_val, 'r', label = 'Validation loss' )\n",
        "plt.title('Training loss')\n",
        "plt.xlabel('Epochs')\n",
        "plt.ylabel('Loss')\n",
        "plt.legend()\n",
        "plt.show()"
      ]
    },
    {
      "cell_type": "code",
      "execution_count": null,
      "metadata": {
        "colab": {
          "base_uri": "https://localhost:8080/",
          "height": 295
        },
        "id": "0P0V_3K8ZJJU",
        "outputId": "b3b7bc82-b494-4906-cb6c-9d485393ae09"
      },
      "outputs": [
        {
          "data": {
            "image/png": "[encoded data removed]",
            "text/plain": [
              "<Figure size 1440x288 with 2 Axes>"
            ]
          },
          "metadata": {},
          "output_type": "display_data"
        }
      ],
      "source": [
        "fig, ax = plt.subplots(1, 2, figsize=(20, 4))\n",
        "ax = ax.ravel()\n",
        "\n",
        "for i, m in enumerate(['precision', 'recall']):\n",
        "    ax[i].plot(history.history[m])\n",
        "    ax[i].plot(history.history['val_' + m])\n",
        "    ax[i].set_title('Model {}'.format(m))\n",
        "    ax[i].set_xlabel('epochs')\n",
        "    ax[i].set_ylabel(m)\n",
        "    ax[i].legend(['train', 'val'])"
      ]
    },
    {
      "cell_type": "code",
      "execution_count": null,
      "metadata": {
        "id": "DyPfVqNS-sQr"
      },
      "outputs": [],
      "source": [
        "import tensorflow as tf\n",
        "model2 = keras.models.load_model('/content/drive/MyDrive/chest_xray/test/model3.h5')"
      ]
    },
    {
      "cell_type": "code",
      "execution_count": null,
      "metadata": {
        "id": "E_w0IzR0a72t"
      },
      "outputs": [],
      "source": [
        "model2.evaluate(test_dataset)"
      ]
    },
    {
      "cell_type": "code",
      "execution_count": null,
      "metadata": {
        "id": "jTdPHFkXdSJk"
      },
      "outputs": [],
      "source": [
        "model2.predict(test_dataset)"
      ]
    },
    {
      "cell_type": "code",
      "execution_count": null,
      "metadata": {
        "colab": {
          "base_uri": "https://localhost:8080/"
        },
        "id": "Hjbc0xT46JSP",
        "outputId": "7eeee9ba-9eb7-4faf-9f75-37ffa921407f"
      },
      "outputs": [
        {
          "name": "stdout",
          "output_type": "stream",
          "text": [
            "[1.]\n",
            "Pneumonia\n"
          ]
        }
      ],
      "source": [
        "from keras.preprocessing import image\n",
        "from keras.preprocessing.image import img_to_array\n",
        "img = image.load_img('/content/drive/MyDrive/chest_xray/test/PNEUMONIA/person100_bacteria_478.jpeg',target_size=(180,180))\n",
        "#x = image.img_to_array(img)\n",
        "x = img_to_array(img)\n",
        "x  = np.expand_dims(x, axis=0)\n",
        "#images = np.vstack([x])\n",
        "classes = model2.predict(x)\n",
        "print(classes[0])\n",
        "if classes[0] < 0.5:\n",
        "  print(\"Normal\")\n",
        "else:\n",
        "  print(\"Pneumonia\")"
      ]
    },
    {
      "cell_type": "code",
      "execution_count": null,
      "metadata": {
        "colab": {
          "base_uri": "https://localhost:8080/"
        },
        "id": "TjT0zNyIv_pR",
        "outputId": "a01fa3df-f346-488d-cf1c-0eb7a41dd397"
      },
      "outputs": [
        {
          "name": "stdout",
          "output_type": "stream",
          "text": [
            "[0.]\n",
            "Normal\n"
          ]
        }
      ],
      "source": [
        "from keras.preprocessing import image\n",
        "from keras.preprocessing.image import img_to_array\n",
        "import cv2\n",
        "image1 = image.load_img('/content/drive/MyDrive/chest_xray/test/NORMAL/IM-0009-0001.jpeg',target_size=(180,180))\n",
        "image1  = np.asarray(image1)\n",
        "img = cv2.cvtColor(image1, cv2.COLOR_BGR2RGB)\n",
        "img_reshape = img[np.newaxis,...]\n",
        "#images = np.vstack([x])\n",
        "classes = model2.predict(img_reshape)\n",
        "print(classes[0])\n",
        "if classes[0] < 0.5:\n",
        "  print(\"Normal\")\n",
        "else:\n",
        "  print(\"Pneumonia\")"
      ]
    },
    {
      "cell_type": "code",
      "execution_count": null,
      "metadata": {
        "id": "CEw2RziidT5V"
      },
      "outputs": [],
      "source": [
        "!pip install streamlit"
      ]
    },
    {
      "cell_type": "code",
      "execution_count": null,
      "metadata": {
        "id": "0JRM4sCTdXE6"
      },
      "outputs": [],
      "source": [
        "!pip install -q streamlit"
      ]
    },
    {
      "cell_type": "code",
      "execution_count": null,
      "metadata": {
        "colab": {
          "base_uri": "https://localhost:8080/"
        },
        "id": "M3SqDfQfoACS",
        "outputId": "8630c656-f453-4154-835f-ab196a5fee44"
      },
      "outputs": [
        {
          "name": "stdout",
          "output_type": "stream",
          "text": [
            "Requirement already satisfied: Pillow in /usr/local/lib/python3.7/dist-packages (9.1.0)\n"
          ]
        }
      ],
      "source": [
        "!pip install -U Pillow"
      ]
    },
    {
      "cell_type": "code",
      "execution_count": null,
      "metadata": {
        "colab": {
          "background_save": true
        },
        "id": "GJk1_KlmySgx",
        "outputId": "f63570a2-024b-4209-d95a-a412fd154a16"
      },
      "outputs": [
        {
          "name": "stdout",
          "output_type": "stream",
          "text": [
            "Overwriting app.py\n"
          ]
        }
      ],
      "source": [
        "%%writefile app.py\n",
        "import streamlit as st\n",
        "import tensorflow as tf\n",
        "from tensorflow import keras\n",
        "import numpy as np\n",
        "from keras.preprocessing import image\n",
        "from keras.preprocessing.image import img_to_array, load_img\n",
        "import PIL\n",
        "from PIL import Image, ImageOps\n",
        "import os\n",
        "import cv2\n",
        "st.header (\"Image Classifier\")\n",
        "\n",
        "def load_model():\n",
        "  model=tf.keras.models.load_model('/content/drive/MyDrive/chest_xray/test/model3.h5')\n",
        "  return model\n",
        "with st.spinner('Model is being loaded..'):\n",
        "  model=load_model()  \n",
        "\n",
        "file = st.file_uploader(\"Choose the file\", type = ['jpg', 'jpeg', 'png'])\n",
        "st.set_option('deprecation.showfileUploaderEncoding', False)\n",
        "\n",
        "def import_and_predict(image_data, model):\n",
        "  size = (180,180)\n",
        "  image1 = ImageOps.fit(image_data, size, Image.ANTIALIAS)\n",
        "  image1  = np.asarray(image1)\n",
        "  #image1 = np.vstack([image1])\n",
        "  img = cv2.cvtColor(image1, cv2.COLOR_BGR2RGB)\n",
        "  img_reshape = img[np.newaxis,...]\n",
        "  classes = model.predict(img_reshape)\n",
        "  return classes\n",
        "\n",
        "if file is None:\n",
        "    st.text(\"Please upload an image file\")\n",
        "else:\n",
        "    image1 = Image.open(file)\n",
        "    st.image(image1, use_column_width=True)\n",
        "    classes = import_and_predict(image1, model)\n",
        "    st.write(classes)\n",
        "    if classes[0] < 0.5:\n",
        "      st.write(\"Normal\")\n",
        "    else:\n",
        "      st.write(\"Pneumonia\")"
      ]
    },
    {
      "cell_type": "code",
      "execution_count": null,
      "metadata": {
        "colab": {
          "base_uri": "https://localhost:8080/"
        },
        "id": "t83Z4nh4w39b",
        "outputId": "c3649885-78d7-4835-99ca-be8c11baee72"
      },
      "outputs": [
        {
          "name": "stdout",
          "output_type": "stream",
          "text": [
            "Collecting pyngrok\n",
            "  Downloading pyngrok-5.1.0.tar.gz (745 kB)\n",
            "\u001b[K     |████████████████████████████████| 745 kB 3.5 MB/s \n",
            "\u001b[?25hRequirement already satisfied: PyYAML in /usr/local/lib/python3.7/dist-packages (from pyngrok) (3.13)\n",
            "Building wheels for collected packages: pyngrok\n",
            "  Building wheel for pyngrok (setup.py) ... \u001b[?25l\u001b[?25hdone\n",
            "  Created wheel for pyngrok: filename=pyngrok-5.1.0-py3-none-any.whl size=19007 sha256=4382298de219cab64d678c2994c1954c2b0f8ac75be3c124f0f8bead1c0d401c\n",
            "  Stored in directory: /root/.cache/pip/wheels/bf/e6/af/ccf6598ecefecd44104069371795cb9b3afbcd16987f6ccfb3\n",
            "Successfully built pyngrok\n",
            "Installing collected packages: pyngrok\n",
            "Successfully installed pyngrok-5.1.0\n"
          ]
        }
      ],
      "source": [
        "!pip install pyngrok"
      ]
    },
    {
      "cell_type": "code",
      "execution_count": null,
      "metadata": {
        "colab": {
          "base_uri": "https://localhost:8080/"
        },
        "id": "PU2B-BxKqn_y",
        "outputId": "c851e9a7-d1c2-40eb-fd33-57c5eafa502f"
      },
      "outputs": [
        {
          "name": "stdout",
          "output_type": "stream",
          "text": [
            "Authtoken saved to configuration file: /root/.ngrok2/ngrok.yml\n"
          ]
        }
      ],
      "source": [
        "!ngrok authtoken 1rjgsHVSomsVLiXWDpZvFr3VR48_HU5YCz52mUUnG95XQsmv"
      ]
    },
    {
      "cell_type": "code",
      "execution_count": null,
      "metadata": {
        "colab": {
          "base_uri": "https://localhost:8080/"
        },
        "id": "kd37vdyEo5pP",
        "outputId": "b5e99ba0-5e4a-449c-93ca-e24d7bcdd459"
      },
      "outputs": [
        {
          "name": "stdout",
          "output_type": "stream",
          "text": [
            "nohup: appending output to 'nohup.out'\n"
          ]
        }
      ],
      "source": [
        "!nohup streamlit run app.py &"
      ]
    },
    {
      "cell_type": "code",
      "execution_count": null,
      "metadata": {
        "colab": {
          "base_uri": "https://localhost:8080/"
        },
        "id": "qDsjD7-qxeH2",
        "outputId": "84b030fd-f7a9-460b-c578-e6f1a04c4cc6"
      },
      "outputs": [
        {
          "name": "stdout",
          "output_type": "stream",
          "text": [
            "--2022-04-29 05:24:38--  https://bin.equinox.io/c/4VmDzA7iaHb/ngrok-stable-linux-amd64.zip\n",
            "Resolving bin.equinox.io (bin.equinox.io)... 18.205.222.128, 54.237.133.81, 54.161.241.46, ...\n",
            "Connecting to bin.equinox.io (bin.equinox.io)|18.205.222.128|:443... connected.\n",
            "HTTP request sent, awaiting response... 200 OK\n",
            "Length: 13832437 (13M) [application/octet-stream]\n",
            "Saving to: ‘ngrok-stable-linux-amd64.zip.1’\n",
            "\n",
            "ngrok-stable-linux- 100%[===================>]  13.19M  6.58MB/s    in 2.0s    \n",
            "\n",
            "2022-04-29 05:24:41 (6.58 MB/s) - ‘ngrok-stable-linux-amd64.zip.1’ saved [13832437/13832437]\n",
            "\n"
          ]
        }
      ],
      "source": [
        "!wget https://bin.equinox.io/c/4VmDzA7iaHb/ngrok-stable-linux-amd64.zip"
      ]
    },
    {
      "cell_type": "code",
      "execution_count": null,
      "metadata": {
        "colab": {
          "base_uri": "https://localhost:8080/"
        },
        "id": "0uH1MKL9pCSy",
        "outputId": "7a376981-9fe5-468c-f67d-e7283472155f"
      },
      "outputs": [
        {
          "name": "stdout",
          "output_type": "stream",
          "text": [
            "Archive:  ngrok-stable-linux-amd64.zip\n",
            "replace ngrok? [y]es, [n]o, [A]ll, [N]one, [r]ename: Y\n",
            "  inflating: ngrok                   \n"
          ]
        }
      ],
      "source": [
        "!unzip ngrok-stable-linux-amd64.zip"
      ]
    },
    {
      "cell_type": "code",
      "execution_count": null,
      "metadata": {
        "id": "4I-KmAbD40Jw"
      },
      "outputs": [],
      "source": [
        "get_ipython().system_raw('./ngrok http 8501 &')"
      ]
    },
    {
      "cell_type": "code",
      "execution_count": null,
      "metadata": {
        "colab": {
          "base_uri": "https://localhost:8080/"
        },
        "id": "PqiRdBJJpGpO",
        "outputId": "d3f2f658-595f-4cf4-c3de-ed52a57908f2"
      },
      "outputs": [
        {
          "name": "stdout",
          "output_type": "stream",
          "text": [
            "Execute the next cell and the go to the following URL: https://3650-35-194-254-240.ngrok.io\n"
          ]
        }
      ],
      "source": [
        "!curl -s http://localhost:4040/api/tunnels | python3 -c \\\n",
        "    'import sys, json; print(\"Execute the next cell and the go to the following URL: \" +json.load(sys.stdin)[\"tunnels\"][0][\"public_url\"])'"
      ]
    },
    {
      "cell_type": "code",
      "execution_count": null,
      "metadata": {
        "colab": {
          "background_save": true,
          "base_uri": "https://localhost:8080/"
        },
        "id": "UtUbF-DipS8s",
        "outputId": "c000a503-cf9e-438c-ae83-cc820ceefea3"
      },
      "outputs": [
        {
          "name": "stdout",
          "output_type": "stream",
          "text": [
            "2022-04-29 05:54:10.716 INFO    numexpr.utils: NumExpr defaulting to 2 threads.\n",
            "\u001b[0m\n",
            "\u001b[34m\u001b[1m  You can now view your Streamlit app in your browser.\u001b[0m\n",
            "\u001b[0m\n",
            "\u001b[34m  Network URL: \u001b[0m\u001b[1mhttp://172.28.0.2:8501\u001b[0m\n",
            "\u001b[34m  External URL: \u001b[0m\u001b[1mhttp://35.194.254.240:8501\u001b[0m\n",
            "\u001b[0m\n",
            "2022-04-29 05:54:37.591256: E tensorflow/stream_executor/cuda/cuda_driver.cc:271] failed call to cuInit: CUDA_ERROR_NO_DEVICE: no CUDA-capable device is detected\n",
            "/content/app.py:24: DeprecationWarning: ANTIALIAS is deprecated and will be removed in Pillow 10 (2023-07-01). Use Resampling.LANCZOS instead.\n",
            "  image1 = ImageOps.fit(image_data, size, Image.ANTIALIAS)\n"
          ]
        }
      ],
      "source": [
        "!streamlit run /content/app.py"
      ]
    }
  ],
  "metadata": {
    "colab": {
      "provenance": [],
      "mount_file_id": "1K6JcvS2eRCupFK0xKM-n1ehExCd-RHxj",
      "authorship_tag": "ABX9TyO3mLFWsfXIbXKKDgDl7roi",
      "include_colab_link": true
    },
    "kernelspec": {
      "display_name": "Python 3",
      "name": "python3"
    },
    "language_info": {
      "name": "python"
    }
  },
  "nbformat": 4,
  "nbformat_minor": 0
}